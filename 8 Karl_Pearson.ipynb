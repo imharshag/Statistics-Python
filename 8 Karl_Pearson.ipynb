{
 "cells": [
  {
   "cell_type": "markdown",
   "id": "43180557-020e-4963-808a-1075574a5e80",
   "metadata": {},
   "source": [
    "### 8) Analyze a dataset containing information about the sales revenue and advertising expenditure of a company over a period of time. Calculate the Karl Pearson correlation coefficient between sales revenue and advertising expenditure using Python. Interpret the correlation coefficient and discuss the strength and direction of the relationship between advertising and sales."
   ]
  },
  {
   "cell_type": "code",
   "execution_count": null,
   "id": "d1d73983-d129-4e19-a66c-2bc083155627",
   "metadata": {},
   "outputs": [],
   "source": [
    "import pandas as pd\n",
    "import seaborn as sns\n",
    "\n",
    "data = pd.read_csv(\"sales.csv\")\n",
    "\n",
    "correlation_coefficient = data['sales'].corr(data['ad'])\n",
    "\n",
    "if correlation_coefficient > 0:\n",
    "    direction = \"positive\"\n",
    "elif correlation_coefficient < 0:\n",
    "    direction = \"negative\"\n",
    "else:\n",
    "    direction = \"no\"\n",
    "    \n",
    "strength = abs(correlation_coefficient)\n",
    "\n",
    "print(f\"Pearson correlation coefficient between sales revenue and advertising expenditure: {correlation_coefficient}\")\n",
    "print(f\"The correlation is {strength:.2f}, indicating a {direction} relationship between advertising expenditure and sales revenue.\")\n",
    "\n",
    "## Scatter Plot using Seaborn\n",
    "sns.set_style(\"darkgrid\")\n",
    "sns.scatterplot(x='ad', y='sales', data=data)\n",
    "sns.set(rc={'figure.figsize':(8,6)})\n",
    "sns.set(font_scale=1.2)\n",
    "sns.despine()"
   ]
  }
 ],
 "metadata": {
  "kernelspec": {
   "display_name": "Python 3 (ipykernel)",
   "language": "python",
   "name": "python3"
  },
  "language_info": {
   "codemirror_mode": {
    "name": "ipython",
    "version": 3
   },
   "file_extension": ".py",
   "mimetype": "text/x-python",
   "name": "python",
   "nbconvert_exporter": "python",
   "pygments_lexer": "ipython3",
   "version": "3.12.3"
  }
 },
 "nbformat": 4,
 "nbformat_minor": 5
}
