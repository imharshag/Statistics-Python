{
 "cells": [
  {
   "cell_type": "markdown",
   "id": "e5c0f6df-ac0e-48c9-a757-b946fad93718",
   "metadata": {},
   "source": [
    "### 10) Consider Australian Drug Sales dataset and develop a Python/R code to perform Time Series Analysis and visualize using plots."
   ]
  },
  {
   "cell_type": "code",
   "execution_count": null,
   "id": "8777a8ca-11e3-4459-ab24-f79a75bcaeab",
   "metadata": {},
   "outputs": [],
   "source": []
  }
 ],
 "metadata": {
  "kernelspec": {
   "display_name": "Python 3 (ipykernel)",
   "language": "python",
   "name": "python3"
  },
  "language_info": {
   "codemirror_mode": {
    "name": "ipython",
    "version": 3
   },
   "file_extension": ".py",
   "mimetype": "text/x-python",
   "name": "python",
   "nbconvert_exporter": "python",
   "pygments_lexer": "ipython3",
   "version": "3.12.3"
  }
 },
 "nbformat": 4,
 "nbformat_minor": 5
}
